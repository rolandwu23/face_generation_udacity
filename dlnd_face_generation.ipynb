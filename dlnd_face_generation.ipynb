{
  "nbformat": 4,
  "nbformat_minor": 0,
  "metadata": {
    "kernelspec": {
      "name": "python3",
      "display_name": "Python 3"
    },
    "language_info": {
      "codemirror_mode": {
        "name": "ipython",
        "version": 3
      },
      "file_extension": ".py",
      "mimetype": "text/x-python",
      "name": "python",
      "nbconvert_exporter": "python",
      "pygments_lexer": "ipython3",
      "version": "3.6.3"
    },
    "colab": {
      "name": "dlnd_face_generation.ipynb",
      "provenance": []
    },
    "accelerator": "GPU"
  },
  "cells": [
    {
      "cell_type": "markdown",
      "metadata": {
        "id": "23OppcqvdhWz",
        "colab_type": "text"
      },
      "source": [
        "# Face Generation\n",
        "\n",
        "In this project, you'll define and train a DCGAN on a dataset of faces. Your goal is to get a generator network to generate *new* images of faces that look as realistic as possible!\n",
        "\n",
        "The project will be broken down into a series of tasks from **loading in data to defining and training adversarial networks**. At the end of the notebook, you'll be able to visualize the results of your trained Generator to see how it performs; your generated samples should look like fairly realistic faces with small amounts of noise.\n",
        "\n",
        "### Get the Data\n",
        "\n",
        "You'll be using the [CelebFaces Attributes Dataset (CelebA)](http://mmlab.ie.cuhk.edu.hk/projects/CelebA.html) to train your adversarial networks.\n",
        "\n",
        "This dataset is more complex than the number datasets (like MNIST or SVHN) you've been working with, and so, you should prepare to define deeper networks and train them for a longer time to get good results. It is suggested that you utilize a GPU for training.\n",
        "\n",
        "### Pre-processed Data\n",
        "\n",
        "Since the project's main focus is on building the GANs, we've done *some* of the pre-processing for you. Each of the CelebA images has been cropped to remove parts of the image that don't include a face, then resized down to 64x64x3 NumPy images. Some sample data is show below.\n",
        "\n",
        "<img src='assets/processed_face_data.png' width=60% />\n",
        "\n",
        "> If you are working locally, you can download this data [by clicking here](https://s3.amazonaws.com/video.udacity-data.com/topher/2018/November/5be7eb6f_processed-celeba-small/processed-celeba-small.zip)\n",
        "\n",
        "This is a zip file that you'll need to extract in the home directory of this notebook for further loading and processing. After extracting the data, you should be left with a directory of data `processed_celeba_small/`"
      ]
    },
    {
      "cell_type": "code",
      "metadata": {
        "id": "D_5dklGiebt7",
        "colab_type": "code",
        "colab": {
          "base_uri": "https://localhost:8080/",
          "height": 122
        },
        "outputId": "4890a000-dd0a-4d99-90cb-cb1c338aa0f9"
      },
      "source": [
        "from google.colab import drive\n",
        "drive.mount('/content/drive')"
      ],
      "execution_count": 2,
      "outputs": [
        {
          "output_type": "stream",
          "text": [
            "Go to this URL in a browser: https://accounts.google.com/o/oauth2/auth?client_id=947318989803-6bn6qk8qdgf4n4g3pfee6491hc0brc4i.apps.googleusercontent.com&redirect_uri=urn%3Aietf%3Awg%3Aoauth%3A2.0%3Aoob&scope=email%20https%3A%2F%2Fwww.googleapis.com%2Fauth%2Fdocs.test%20https%3A%2F%2Fwww.googleapis.com%2Fauth%2Fdrive%20https%3A%2F%2Fwww.googleapis.com%2Fauth%2Fdrive.photos.readonly%20https%3A%2F%2Fwww.googleapis.com%2Fauth%2Fpeopleapi.readonly&response_type=code\n",
            "\n",
            "Enter your authorization code:\n",
            "··········\n",
            "Mounted at /content/drive\n"
          ],
          "name": "stdout"
        }
      ]
    },
    {
      "cell_type": "code",
      "metadata": {
        "id": "2Nqnam1web7X",
        "colab_type": "code",
        "colab": {}
      },
      "source": [
        "import zipfile\n",
        "import io\n",
        "\n",
        "zip_ref = zipfile.ZipFile(\"/content/drive/My Drive/Face Generation/processed-celeba-small.zip\", 'r')\n",
        "zip_ref.extractall(\"/tmp\")\n",
        "zip_ref.close()"
      ],
      "execution_count": 0,
      "outputs": []
    },
    {
      "cell_type": "code",
      "metadata": {
        "id": "Ptc3pDr8eyxA",
        "colab_type": "code",
        "colab": {
          "base_uri": "https://localhost:8080/",
          "height": 34
        },
        "outputId": "a387163a-02e0-4611-ee2a-e3fbdf993b0b"
      },
      "source": [
        "import numpy as np\n",
        "from glob import glob\n",
        "files = np.array(glob(\"/tmp/processed_celeba_small/*/*\"))\n",
        "\n",
        "print('There are %d total images.' % len(files))"
      ],
      "execution_count": 11,
      "outputs": [
        {
          "output_type": "stream",
          "text": [
            "There are 32601 total images.\n"
          ],
          "name": "stdout"
        }
      ]
    },
    {
      "cell_type": "code",
      "metadata": {
        "id": "iRteuemNdhW_",
        "colab_type": "code",
        "colab": {}
      },
      "source": [
        "data_dir = '/tmp/processed_celeba_small/'\n",
        "\n",
        "\"\"\"\n",
        "DON'T MODIFY ANYTHING IN THIS CELL\n",
        "\"\"\"\n",
        "import pickle as pkl\n",
        "import matplotlib.pyplot as plt\n",
        "import numpy as np\n",
        "import problem_unittests as tests\n",
        "#import helper\n",
        "\n",
        "%matplotlib inline"
      ],
      "execution_count": 0,
      "outputs": []
    },
    {
      "cell_type": "markdown",
      "metadata": {
        "id": "H44c0WkzdhXF",
        "colab_type": "text"
      },
      "source": [
        "## Visualize the CelebA Data\n",
        "\n",
        "The [CelebA](http://mmlab.ie.cuhk.edu.hk/projects/CelebA.html) dataset contains over 200,000 celebrity images with annotations. Since you're going to be generating faces, you won't need the annotations, you'll only need the images. Note that these are color images with [3 color channels (RGB)](https://en.wikipedia.org/wiki/Channel_(digital_image)#RGB_Images) each.\n",
        "\n",
        "### Pre-process and Load the Data\n",
        "\n",
        "Since the project's main focus is on building the GANs, we've done *some* of the pre-processing for you. Each of the CelebA images has been cropped to remove parts of the image that don't include a face, then resized down to 64x64x3 NumPy images. This *pre-processed* dataset is a smaller subset of the very large CelebA data.\n",
        "\n",
        "> There are a few other steps that you'll need to **transform** this data and create a **DataLoader**.\n",
        "\n",
        "#### Exercise: Complete the following `get_dataloader` function, such that it satisfies these requirements:\n",
        "\n",
        "* Your images should be square, Tensor images of size `image_size x image_size` in the x and y dimension.\n",
        "* Your function should return a DataLoader that shuffles and batches these Tensor images.\n",
        "\n",
        "#### ImageFolder\n",
        "\n",
        "To create a dataset given a directory of images, it's recommended that you use PyTorch's [ImageFolder](https://pytorch.org/docs/stable/torchvision/datasets.html#imagefolder) wrapper, with a root directory `processed_celeba_small/` and data transformation passed in."
      ]
    },
    {
      "cell_type": "code",
      "metadata": {
        "id": "StLDVgWDdhXH",
        "colab_type": "code",
        "colab": {}
      },
      "source": [
        "# necessary imports\n",
        "import torch\n",
        "from torchvision import datasets\n",
        "from torchvision import transforms\n",
        "\n",
        "import os\n",
        "from torch.utils.data import DataLoader\n",
        "import torchvision"
      ],
      "execution_count": 0,
      "outputs": []
    },
    {
      "cell_type": "code",
      "metadata": {
        "id": "vc_Zf-BHdhXK",
        "colab_type": "code",
        "colab": {}
      },
      "source": [
        "def get_dataloader(batch_size, image_size, data_dir='/tmp/processed_celeba_small/'):\n",
        "    \"\"\"\n",
        "    Batch the neural network data using DataLoader\n",
        "    :param batch_size: The size of each batch; the number of images in a batch\n",
        "    :param img_size: The square size of the image data (x, y)\n",
        "    :param data_dir: Directory where image data is located\n",
        "    :return: DataLoader with batched data\n",
        "    \"\"\"\n",
        "    \n",
        "    # TODO: Implement function and return a dataloader\n",
        "    transform = transforms.Compose([transforms.Resize(image_size), # resize to 32x32\n",
        "                                    transforms.CenterCrop(image_size),\n",
        "                                    transforms.ToTensor(),\n",
        "                                  #  transforms.Normalize((0.5, 0.5, 0.5), (0.5, 0.5, 0.5))\n",
        "                                  # transforms.Normalize((0.485, 0.456, 0.406), (0.229, 0.224, 0.225))\n",
        "                                   ])\n",
        "\n",
        "    # define datasets using ImageFolder\n",
        "    train_dataset = datasets.ImageFolder(data_dir, transform)\n",
        "\n",
        "    # create and return DataLoaders\n",
        "    train_loader = DataLoader(dataset=train_dataset, batch_size=batch_size, shuffle=True, num_workers=0)\n",
        "\n",
        "    return train_loader\n"
      ],
      "execution_count": 0,
      "outputs": []
    },
    {
      "cell_type": "markdown",
      "metadata": {
        "id": "Mfwj5axKdhXM",
        "colab_type": "text"
      },
      "source": [
        "## Create a DataLoader\n",
        "\n",
        "#### Exercise: Create a DataLoader `celeba_train_loader` with appropriate hyperparameters.\n",
        "\n",
        "Call the above function and create a dataloader to view images. \n",
        "* You can decide on any reasonable `batch_size` parameter\n",
        "* Your `image_size` **must be** `32`. Resizing the data to a smaller size will make for faster training, while still creating convincing images of faces!"
      ]
    },
    {
      "cell_type": "code",
      "metadata": {
        "id": "7qZtW5G1dhXN",
        "colab_type": "code",
        "colab": {}
      },
      "source": [
        "# Define function hyperparameters\n",
        "batch_size = 128\n",
        "img_size = 32\n",
        "\n",
        "\"\"\"\n",
        "DON'T MODIFY ANYTHING IN THIS CELL THAT IS BELOW THIS LINE\n",
        "\"\"\"\n",
        "# Call your function and get a dataloader\n",
        "celeba_train_loader = get_dataloader(batch_size, img_size)\n"
      ],
      "execution_count": 0,
      "outputs": []
    },
    {
      "cell_type": "markdown",
      "metadata": {
        "id": "pWqUkZRxdhXR",
        "colab_type": "text"
      },
      "source": [
        "Next, you can view some images! You should seen square images of somewhat-centered faces.\n",
        "\n",
        "Note: You'll need to convert the Tensor images into a NumPy type and transpose the dimensions to correctly display an image, suggested `imshow` code is below, but it may not be perfect."
      ]
    },
    {
      "cell_type": "code",
      "metadata": {
        "id": "22pDmNj9dhXS",
        "colab_type": "code",
        "colab": {
          "base_uri": "https://localhost:8080/",
          "height": 248
        },
        "outputId": "9177ed40-a493-476b-aacc-67d5e37c4526"
      },
      "source": [
        "# helper display function\n",
        "def imshow(img):\n",
        "    npimg = img.numpy()\n",
        "    plt.imshow(np.transpose(npimg, (1, 2, 0)))\n",
        "\n",
        "\"\"\"\n",
        "DON'T MODIFY ANYTHING IN THIS CELL THAT IS BELOW THIS LINE\n",
        "\"\"\"\n",
        "# obtain one batch of training images\n",
        "dataiter = iter(celeba_train_loader)\n",
        "images, _ = dataiter.next() # _ for no labels\n",
        "\n",
        "# plot the images in the batch, along with the corresponding labels\n",
        "fig = plt.figure(figsize=(20, 4))\n",
        "plot_size=20\n",
        "for idx in np.arange(plot_size):\n",
        "    ax = fig.add_subplot(2, plot_size/2, idx+1, xticks=[], yticks=[])\n",
        "    imshow(images[idx])"
      ],
      "execution_count": 94,
      "outputs": [
        {
          "output_type": "display_data",
          "data": {
            "image/png": "[encoded data removed]",
            "text/plain": [
              "<Figure size 1440x288 with 20 Axes>"
            ]
          },
          "metadata": {
            "tags": []
          }
        }
      ]
    },
    {
      "cell_type": "markdown",
      "metadata": {
        "id": "JkQjCJk8dhXT",
        "colab_type": "text"
      },
      "source": [
        "#### Exercise: Pre-process your image data and scale it to a pixel range of -1 to 1\n",
        "\n",
        "You need to do a bit of pre-processing; you know that the output of a `tanh` activated generator will contain pixel values in a range from -1 to 1, and so, we need to rescale our training images to a range of -1 to 1. (Right now, they are in a range from 0-1.)"
      ]
    },
    {
      "cell_type": "code",
      "metadata": {
        "id": "S9A0j5A_dhXU",
        "colab_type": "code",
        "colab": {}
      },
      "source": [
        "# TODO: Complete the scale function\n",
        "def scale(x, feature_range=(-1, 1)):\n",
        "    ''' Scale takes in an image x and returns that image, scaled\n",
        "       with a feature_range of pixel values from -1 to 1. \n",
        "       This function assumes that the input x is already scaled from 0-1.'''\n",
        "    # assume x is scaled to (0, 1)\n",
        "    # scale to feature_range and return scaled x\n",
        "    min, max = feature_range\n",
        "    x = x * (max - min) + min\n",
        "    return x\n",
        "\n",
        "\n"
      ],
      "execution_count": 0,
      "outputs": []
    },
    {
      "cell_type": "code",
      "metadata": {
        "id": "aZ5VZQFxdhXV",
        "colab_type": "code",
        "colab": {
          "base_uri": "https://localhost:8080/",
          "height": 51
        },
        "outputId": "f4d6ced7-0195-42bd-9c96-45d012c3a9cc"
      },
      "source": [
        "\"\"\"\n",
        "DON'T MODIFY ANYTHING IN THIS CELL THAT IS BELOW THIS LINE\n",
        "\"\"\"\n",
        "# check scaled range\n",
        "# should be close to -1 to 1\n",
        "img = images[0]\n",
        "scaled_img = scale(img)\n",
        "\n",
        "print('Min: ', scaled_img.min())\n",
        "print('Max: ', scaled_img.max())"
      ],
      "execution_count": 96,
      "outputs": [
        {
          "output_type": "stream",
          "text": [
            "Min:  tensor(-1.)\n",
            "Max:  tensor(0.9843)\n"
          ],
          "name": "stdout"
        }
      ]
    },
    {
      "cell_type": "markdown",
      "metadata": {
        "id": "A_rw5pfZdhXX",
        "colab_type": "text"
      },
      "source": [
        "---\n",
        "# Define the Model\n",
        "\n",
        "A GAN is comprised of two adversarial networks, a discriminator and a generator.\n",
        "\n",
        "## Discriminator\n",
        "\n",
        "Your first task will be to define the discriminator. This is a convolutional classifier like you've built before, only without any maxpooling layers. To deal with this complex data, it's suggested you use a deep network with **normalization**. You are also allowed to create any helper functions that may be useful.\n",
        "\n",
        "#### Exercise: Complete the Discriminator class\n",
        "* The inputs to the discriminator are 32x32x3 tensor images\n",
        "* The output should be a single value that will indicate whether a given image is real or fake\n"
      ]
    },
    {
      "cell_type": "code",
      "metadata": {
        "id": "zp17ZodKdhXX",
        "colab_type": "code",
        "colab": {}
      },
      "source": [
        "import torch.nn as nn\n",
        "import torch.nn.functional as F\n",
        "\n",
        "# helper conv function\n",
        "def conv(in_channels, out_channels, kernel_size, stride=2, padding=1, batch_norm=True):\n",
        "    \"\"\"Creates a convolutional layer, with optional batch normalization.\n",
        "    \"\"\"\n",
        "    layers = []\n",
        "    conv_layer = nn.Conv2d(in_channels=in_channels, out_channels=out_channels, \n",
        "                           kernel_size=kernel_size, stride=stride, padding=padding, bias=False)\n",
        "    \n",
        "    layers.append(conv_layer)\n",
        "\n",
        "    if batch_norm:\n",
        "        layers.append(nn.BatchNorm2d(out_channels))\n",
        "    return nn.Sequential(*layers)"
      ],
      "execution_count": 0,
      "outputs": []
    },
    {
      "cell_type": "code",
      "metadata": {
        "id": "jDf4MDfwdhXZ",
        "colab_type": "code",
        "colab": {
          "base_uri": "https://localhost:8080/",
          "height": 34
        },
        "outputId": "a63b2ff7-8099-40fe-c734-743bdd713341"
      },
      "source": [
        "class Discriminator(nn.Module):\n",
        "\n",
        "    def __init__(self, conv_dim):\n",
        "        \"\"\"\n",
        "        Initialize the Discriminator Module\n",
        "        :param conv_dim: The depth of the first convolutional layer\n",
        "        \"\"\"\n",
        "        super(Discriminator, self).__init__()\n",
        "\n",
        "        # complete init function\n",
        "        self.conv_dim = conv_dim\n",
        "\n",
        "        # 32x32 input\n",
        "        self.conv1 = conv(3, conv_dim, 4, batch_norm=False) # first layer, no batch_norm\n",
        "        # 16x16 out\n",
        "        self.conv2 = conv(conv_dim, conv_dim*2, 4)\n",
        "        # 8x8 out\n",
        "        self.conv3 = conv(conv_dim*2, conv_dim*4, 4)\n",
        "        # 4x4 out\n",
        "        self.conv4 = conv(conv_dim*4, conv_dim*8, 4)\n",
        "        # 2x2 out\n",
        "        \n",
        "        # final, fully-connected layer\n",
        "        self.fc = nn.Linear(conv_dim*8*2*2, 1)\n",
        "        \n",
        "\n",
        "    def forward(self, x):\n",
        "        \"\"\"\n",
        "        Forward propagation of the neural network\n",
        "        :param x: The input to the neural network     \n",
        "        :return: Discriminator logits; the output of the neural network\n",
        "        \"\"\"\n",
        "        # define feedforward behavior\n",
        "        \n",
        "        out = F.leaky_relu(self.conv1(x), 0.2)\n",
        "        out = F.leaky_relu(self.conv2(out), 0.2)\n",
        "        out = F.leaky_relu(self.conv3(out), 0.2)\n",
        "        out = F.leaky_relu(self.conv4(out), 0.2)\n",
        "        \n",
        "        # flatten\n",
        "        out = out.view(-1, self.conv_dim*8*2*2)\n",
        "        \n",
        "        # final output layer\n",
        "        out = self.fc(out)        \n",
        "        return out\n",
        "\n",
        "\n",
        "\"\"\"\n",
        "DON'T MODIFY ANYTHING IN THIS CELL THAT IS BELOW THIS LINE\n",
        "\"\"\"\n",
        "tests.test_discriminator(Discriminator)"
      ],
      "execution_count": 98,
      "outputs": [
        {
          "output_type": "stream",
          "text": [
            "Tests Passed\n"
          ],
          "name": "stdout"
        }
      ]
    },
    {
      "cell_type": "markdown",
      "metadata": {
        "id": "lmYJ6YwbdhXa",
        "colab_type": "text"
      },
      "source": [
        "## Generator\n",
        "\n",
        "The generator should upsample an input and generate a *new* image of the same size as our training data `32x32x3`. This should be mostly transpose convolutional layers with normalization applied to the outputs.\n",
        "\n",
        "#### Exercise: Complete the Generator class\n",
        "* The inputs to the generator are vectors of some length `z_size`\n",
        "* The output should be a image of shape `32x32x3`"
      ]
    },
    {
      "cell_type": "code",
      "metadata": {
        "id": "zOeQOjBrry2E",
        "colab_type": "code",
        "colab": {}
      },
      "source": [
        "# helper deconv function\n",
        "def deconv(in_channels, out_channels, kernel_size, stride=2, padding=1, batch_norm=True):\n",
        "    \"\"\"Creates a transpose convolutional layer, with optional batch normalization.\n",
        "    \"\"\"\n",
        "    layers = []\n",
        "    # append transpose conv layer\n",
        "    layers.append(nn.ConvTranspose2d(in_channels, out_channels, kernel_size, stride, padding, bias=False))\n",
        "    # optional batch norm layer\n",
        "    if batch_norm:\n",
        "        layers.append(nn.BatchNorm2d(out_channels))\n",
        "    return nn.Sequential(*layers)"
      ],
      "execution_count": 0,
      "outputs": []
    },
    {
      "cell_type": "code",
      "metadata": {
        "id": "TIiesir2dhXa",
        "colab_type": "code",
        "colab": {
          "base_uri": "https://localhost:8080/",
          "height": 34
        },
        "outputId": "fe176b50-1b7a-4fc2-999e-294a46befe36"
      },
      "source": [
        "class Generator(nn.Module):\n",
        "    \n",
        "    def __init__(self, z_size, conv_dim=32):\n",
        "        \"\"\"\n",
        "        Initialize the Generator Module\n",
        "        :param z_size: The length of the input latent vector, z\n",
        "        :param conv_dim: The depth of the inputs to the *last* transpose convolutional layer\n",
        "        \"\"\"\n",
        "        super(Generator, self).__init__()\n",
        "\n",
        "        self.conv_dim = conv_dim\n",
        "        self.fc = nn.Linear(z_size, conv_dim*8*2*2)\n",
        "\n",
        "        self.deconv1 = deconv(conv_dim*8,conv_dim*4,4)\n",
        "        self.deconv2 = deconv(conv_dim*4,conv_dim*2,4)\n",
        "        self.deconv3 = deconv(conv_dim*2,conv_dim,4)\n",
        "\n",
        "        self.deconv4 = deconv(conv_dim,3,4,batch_norm=False)\n",
        "  \n",
        "\n",
        "    def forward(self, x):\n",
        "        \"\"\"\n",
        "        Forward propagation of the neural network\n",
        "        :param x: The input to the neural network     \n",
        "        :return: A 32x32x3 Tensor image as output\n",
        "        \"\"\"\n",
        "        # define feedforward behavior\n",
        "        out = self.fc(x)\n",
        "        out = out.view(-1, self.conv_dim*8, 2, 2) # (batch_size, depth, 4, 4)\n",
        "        \n",
        "        out = F.relu(self.deconv1(out))\n",
        "        out = F.relu(self.deconv2(out))\n",
        "        out = F.relu(self.deconv3(out))\n",
        "\n",
        "        out = torch.tanh(self.deconv4(out))\n",
        "        \n",
        "\n",
        "        return out\n",
        "\n",
        "\"\"\"\n",
        "DON'T MODIFY ANYTHING IN THIS CELL THAT IS BELOW THIS LINE\n",
        "\"\"\"\n",
        "tests.test_generator(Generator)"
      ],
      "execution_count": 100,
      "outputs": [
        {
          "output_type": "stream",
          "text": [
            "Tests Passed\n"
          ],
          "name": "stdout"
        }
      ]
    },
    {
      "cell_type": "markdown",
      "metadata": {
        "id": "OoJAF7ncdhXb",
        "colab_type": "text"
      },
      "source": [
        "## Initialize the weights of your networks\n",
        "\n",
        "To help your models converge, you should initialize the weights of the convolutional and linear layers in your model. From reading the [original DCGAN paper](https://arxiv.org/pdf/1511.06434.pdf), they say:\n",
        "> All weights were initialized from a zero-centered Normal distribution with standard deviation 0.02.\n",
        "\n",
        "So, your next task will be to define a weight initialization function that does just this!\n",
        "\n",
        "You can refer back to the lesson on weight initialization or even consult existing model code, such as that from [the `networks.py` file in CycleGAN Github repository](https://github.com/junyanz/pytorch-CycleGAN-and-pix2pix/blob/master/models/networks.py) to help you complete this function.\n",
        "\n",
        "#### Exercise: Complete the weight initialization function\n",
        "\n",
        "* This should initialize only **convolutional** and **linear** layers\n",
        "* Initialize the weights to a normal distribution, centered around 0, with a standard deviation of 0.02.\n",
        "* The bias terms, if they exist, may be left alone or set to 0."
      ]
    },
    {
      "cell_type": "code",
      "metadata": {
        "id": "yISD4dZ1dhXb",
        "colab_type": "code",
        "colab": {}
      },
      "source": [
        "def weights_init_normal(m):\n",
        "    \"\"\"\n",
        "    Applies initial weights to certain layers in a model .\n",
        "    The weights are taken from a normal distribution \n",
        "    with mean = 0, std dev = 0.02.\n",
        "    :param m: A module or layer in a network    \n",
        "    \"\"\"\n",
        "    # classname will be something like:\n",
        "    # `Conv`, `BatchNorm2d`, `Linear`, etc.\n",
        "    classname = m.__class__.__name__\n",
        "    # if classname.find('Conv') != -1:\n",
        "    #     nn.init.normal_(m.weight.data, 0.0, 0.02)\n",
        "    # elif classname.find('BatchNorm2d') != -1:\n",
        "    #     nn.init.normal_(m.weight.data, 1.0, 0.02)\n",
        "    #     nn.init.constant_(m.bias.data, 0)\n",
        "\n",
        "    if hasattr(m, 'weight') and (classname.find('Conv') != -1 or classname.find('Linear') != -1):\n",
        "        m.weight.data.normal_(0.0, 0.02)\n",
        "        \n",
        "        # The bias terms, if they exist, set to 0\n",
        "        if hasattr(m, 'bias') and m.bias is not None:\n",
        "            m.bias.data.zero_()\n",
        "    \n",
        "    # TODO: Apply initial weights to convolutional and linear layers\n",
        "    \n",
        "    "
      ],
      "execution_count": 0,
      "outputs": []
    },
    {
      "cell_type": "markdown",
      "metadata": {
        "collapsed": true,
        "id": "evrCnz7WdhXc",
        "colab_type": "text"
      },
      "source": [
        "## Build complete network\n",
        "\n",
        "Define your models' hyperparameters and instantiate the discriminator and generator from the classes defined above. Make sure you've passed in the correct input arguments."
      ]
    },
    {
      "cell_type": "code",
      "metadata": {
        "id": "xtWFN-JHdhXc",
        "colab_type": "code",
        "colab": {}
      },
      "source": [
        "\"\"\"\n",
        "DON'T MODIFY ANYTHING IN THIS CELL THAT IS BELOW THIS LINE\n",
        "\"\"\"\n",
        "def build_network(d_conv_dim, g_conv_dim, z_size):\n",
        "    # define discriminator and generator\n",
        "    D = Discriminator(d_conv_dim)\n",
        "    G = Generator(z_size=z_size, conv_dim=g_conv_dim)\n",
        "\n",
        "    # initialize model weights\n",
        "    D.apply(weights_init_normal)\n",
        "    G.apply(weights_init_normal)\n",
        "\n",
        "    print(D)\n",
        "    print()\n",
        "    print(G)\n",
        "    \n",
        "    return D, G\n"
      ],
      "execution_count": 0,
      "outputs": []
    },
    {
      "cell_type": "markdown",
      "metadata": {
        "id": "4N5WS_6OdhXd",
        "colab_type": "text"
      },
      "source": [
        "#### Exercise: Define model hyperparameters"
      ]
    },
    {
      "cell_type": "code",
      "metadata": {
        "id": "cYCZ7vhEdhXd",
        "colab_type": "code",
        "colab": {
          "base_uri": "https://localhost:8080/",
          "height": 646
        },
        "outputId": "e6e374ee-1bb2-4a4e-a986-1ecae832774f"
      },
      "source": [
        "# Define model hyperparams\n",
        "d_conv_dim = 64\n",
        "g_conv_dim = 64\n",
        "z_size = 100\n",
        "\n",
        "\"\"\"\n",
        "DON'T MODIFY ANYTHING IN THIS CELL THAT IS BELOW THIS LINE\n",
        "\"\"\"\n",
        "D, G = build_network(d_conv_dim, g_conv_dim, z_size)"
      ],
      "execution_count": 103,
      "outputs": [
        {
          "output_type": "stream",
          "text": [
            "Discriminator(\n",
            "  (conv1): Sequential(\n",
            "    (0): Conv2d(3, 64, kernel_size=(4, 4), stride=(2, 2), padding=(1, 1), bias=False)\n",
            "  )\n",
            "  (conv2): Sequential(\n",
            "    (0): Conv2d(64, 128, kernel_size=(4, 4), stride=(2, 2), padding=(1, 1), bias=False)\n",
            "    (1): BatchNorm2d(128, eps=1e-05, momentum=0.1, affine=True, track_running_stats=True)\n",
            "  )\n",
            "  (conv3): Sequential(\n",
            "    (0): Conv2d(128, 256, kernel_size=(4, 4), stride=(2, 2), padding=(1, 1), bias=False)\n",
            "    (1): BatchNorm2d(256, eps=1e-05, momentum=0.1, affine=True, track_running_stats=True)\n",
            "  )\n",
            "  (conv4): Sequential(\n",
            "    (0): Conv2d(256, 512, kernel_size=(4, 4), stride=(2, 2), padding=(1, 1), bias=False)\n",
            "    (1): BatchNorm2d(512, eps=1e-05, momentum=0.1, affine=True, track_running_stats=True)\n",
            "  )\n",
            "  (fc): Linear(in_features=2048, out_features=1, bias=True)\n",
            ")\n",
            "\n",
            "Generator(\n",
            "  (fc): Linear(in_features=100, out_features=2048, bias=True)\n",
            "  (deconv1): Sequential(\n",
            "    (0): ConvTranspose2d(512, 256, kernel_size=(4, 4), stride=(2, 2), padding=(1, 1), bias=False)\n",
            "    (1): BatchNorm2d(256, eps=1e-05, momentum=0.1, affine=True, track_running_stats=True)\n",
            "  )\n",
            "  (deconv2): Sequential(\n",
            "    (0): ConvTranspose2d(256, 128, kernel_size=(4, 4), stride=(2, 2), padding=(1, 1), bias=False)\n",
            "    (1): BatchNorm2d(128, eps=1e-05, momentum=0.1, affine=True, track_running_stats=True)\n",
            "  )\n",
            "  (deconv3): Sequential(\n",
            "    (0): ConvTranspose2d(128, 64, kernel_size=(4, 4), stride=(2, 2), padding=(1, 1), bias=False)\n",
            "    (1): BatchNorm2d(64, eps=1e-05, momentum=0.1, affine=True, track_running_stats=True)\n",
            "  )\n",
            "  (deconv4): Sequential(\n",
            "    (0): ConvTranspose2d(64, 3, kernel_size=(4, 4), stride=(2, 2), padding=(1, 1), bias=False)\n",
            "  )\n",
            ")\n"
          ],
          "name": "stdout"
        }
      ]
    },
    {
      "cell_type": "markdown",
      "metadata": {
        "id": "zH3dt2KLdhXg",
        "colab_type": "text"
      },
      "source": [
        "### Training on GPU\n",
        "\n",
        "Check if you can train on GPU. Here, we'll set this as a boolean variable `train_on_gpu`. Later, you'll be responsible for making sure that \n",
        ">* Models,\n",
        "* Model inputs, and\n",
        "* Loss function arguments\n",
        "\n",
        "Are moved to GPU, where appropriate."
      ]
    },
    {
      "cell_type": "code",
      "metadata": {
        "id": "Kpf3HH8mdhXg",
        "colab_type": "code",
        "colab": {
          "base_uri": "https://localhost:8080/",
          "height": 34
        },
        "outputId": "0dd395a3-22e0-4cee-86c7-55f5da5d42b1"
      },
      "source": [
        "\"\"\"\n",
        "DON'T MODIFY ANYTHING IN THIS CELL\n",
        "\"\"\"\n",
        "import torch\n",
        "\n",
        "# Check for a GPU\n",
        "train_on_gpu = torch.cuda.is_available()\n",
        "if not train_on_gpu:\n",
        "    print('No GPU found. Please use a GPU to train your neural network.')\n",
        "else:\n",
        "    print('Training on GPU!')"
      ],
      "execution_count": 104,
      "outputs": [
        {
          "output_type": "stream",
          "text": [
            "Training on GPU!\n"
          ],
          "name": "stdout"
        }
      ]
    },
    {
      "cell_type": "markdown",
      "metadata": {
        "id": "2vLRdD34dhXh",
        "colab_type": "text"
      },
      "source": [
        "---\n",
        "## Discriminator and Generator Losses\n",
        "\n",
        "Now we need to calculate the losses for both types of adversarial networks.\n",
        "\n",
        "### Discriminator Losses\n",
        "\n",
        "> * For the discriminator, the total loss is the sum of the losses for real and fake images, `d_loss = d_real_loss + d_fake_loss`. \n",
        "* Remember that we want the discriminator to output 1 for real images and 0 for fake images, so we need to set up the losses to reflect that.\n",
        "\n",
        "\n",
        "### Generator Loss\n",
        "\n",
        "The generator loss will look similar only with flipped labels. The generator's goal is to get the discriminator to *think* its generated images are *real*.\n",
        "\n",
        "#### Exercise: Complete real and fake loss functions\n",
        "\n",
        "**You may choose to use either cross entropy or a least squares error loss to complete the following `real_loss` and `fake_loss` functions.**"
      ]
    },
    {
      "cell_type": "code",
      "metadata": {
        "id": "7wqk7UNAdhXi",
        "colab_type": "code",
        "colab": {}
      },
      "source": [
        "def real_loss(D_out):\n",
        "    '''Calculates how close discriminator outputs are to being real.\n",
        "       param, D_out: discriminator logits\n",
        "       return: real loss'''\n",
        "    batch_size = D_out.size(0)\n",
        "    labels = torch.ones(batch_size) *0.9\n",
        "    if train_on_gpu:\n",
        "        labels = labels.cuda()\n",
        "    \n",
        "    criterion = nn.BCEWithLogitsLoss()\n",
        "    loss = criterion(D_out.squeeze(),labels)\n",
        "    return loss\n",
        "\n",
        "def fake_loss(D_out):\n",
        "    '''Calculates how close discriminator outputs are to being fake.\n",
        "       param, D_out: discriminator logits\n",
        "       return: fake loss'''\n",
        "    batch_size = D_out.size(0)\n",
        "    labels = torch.zeros(batch_size)\n",
        "    if train_on_gpu:\n",
        "        labels = labels.cuda()\n",
        "    \n",
        "    criterion = nn.BCEWithLogitsLoss()\n",
        "    loss = criterion(D_out.squeeze(),labels)\n",
        "    return loss"
      ],
      "execution_count": 0,
      "outputs": []
    },
    {
      "cell_type": "markdown",
      "metadata": {
        "id": "4BEQkfPhdhXj",
        "colab_type": "text"
      },
      "source": [
        "## Optimizers\n",
        "\n",
        "#### Exercise: Define optimizers for your Discriminator (D) and Generator (G)\n",
        "\n",
        "Define optimizers for your models with appropriate hyperparameters."
      ]
    },
    {
      "cell_type": "code",
      "metadata": {
        "id": "h8-KD_6tdhXj",
        "colab_type": "code",
        "colab": {}
      },
      "source": [
        "import torch.optim as optim\n",
        "\n",
        "# Create optimizers for the discriminator D and generator G\n",
        "d_optimizer = optim.Adam(D.parameters(), lr=0.0002, betas=(0.5, 0.999))\n",
        "g_optimizer = optim.Adam(G.parameters(), lr=0.0002, betas=(0.5, 0.999))"
      ],
      "execution_count": 0,
      "outputs": []
    },
    {
      "cell_type": "markdown",
      "metadata": {
        "id": "hAh-2emydhXl",
        "colab_type": "text"
      },
      "source": [
        "---\n",
        "## Training\n",
        "\n",
        "Training will involve alternating between training the discriminator and the generator. You'll use your functions `real_loss` and `fake_loss` to help you calculate the discriminator losses.\n",
        "\n",
        "* You should train the discriminator by alternating on real and fake images\n",
        "* Then the generator, which tries to trick the discriminator and should have an opposing loss function\n",
        "\n",
        "\n",
        "#### Saving Samples\n",
        "\n",
        "You've been given some code to print out some loss statistics and save some generated \"fake\" samples."
      ]
    },
    {
      "cell_type": "markdown",
      "metadata": {
        "id": "7Y_nmFmtdhXm",
        "colab_type": "text"
      },
      "source": [
        "#### Exercise: Complete the training function\n",
        "\n",
        "Keep in mind that, if you've moved your models to GPU, you'll also have to move any model inputs to GPU."
      ]
    },
    {
      "cell_type": "code",
      "metadata": {
        "id": "YLIQEQGpdhXm",
        "colab_type": "code",
        "colab": {}
      },
      "source": [
        "def train(D, G, n_epochs, print_every=50):\n",
        "    '''Trains adversarial networks for some number of epochs\n",
        "       param, D: the discriminator network\n",
        "       param, G: the generator network\n",
        "       param, n_epochs: number of epochs to train for\n",
        "       param, print_every: when to print and record the models' losses\n",
        "       return: D and G losses'''\n",
        "    \n",
        "    # move models to GPU\n",
        "    if train_on_gpu:\n",
        "        D.cuda()\n",
        "        G.cuda()\n",
        "\n",
        "    # keep track of loss and generated, \"fake\" samples\n",
        "    samples = []\n",
        "    losses = []\n",
        "\n",
        "    # Get some fixed data for sampling. These are images that are held\n",
        "    # constant throughout training, and allow us to inspect the model's performance\n",
        "    sample_size=16\n",
        "    fixed_z = np.random.uniform(-1, 1, size=(sample_size, z_size))\n",
        "    fixed_z = torch.from_numpy(fixed_z).float()\n",
        "    # move z to GPU if available\n",
        "    if train_on_gpu:\n",
        "        fixed_z = fixed_z.cuda()\n",
        "\n",
        "    # epoch training loop\n",
        "    for epoch in range(n_epochs):\n",
        "\n",
        "        # batch training loop\n",
        "        for batch_i, (real_images, _) in enumerate(celeba_train_loader):\n",
        "\n",
        "            batch_size = real_images.size(0)\n",
        "            real_images = scale(real_images)\n",
        "\n",
        "            # ===============================================\n",
        "            #         YOUR CODE HERE: TRAIN THE NETWORKS\n",
        "            # ===============================================\n",
        "            \n",
        "            d_optimizer.zero_grad()\n",
        "            \n",
        "            if train_on_gpu:\n",
        "                real_images = real_images.cuda()\n",
        "                \n",
        "            # 1. Train the discriminator on real and fake images\n",
        "            \n",
        "            # Compute the discriminator losses on real images\n",
        "            D_real = D(real_images)\n",
        "            d_real_loss = real_loss(D_real)\n",
        "            \n",
        "            # Generate fake images\n",
        "            z = np.random.uniform(-1, 1, size=(batch_size, z_size))\n",
        "            z = torch.from_numpy(z).float()\n",
        "            if train_on_gpu:\n",
        "                z = z.cuda()\n",
        "            fake_images = G(z)\n",
        "            \n",
        "            # Compute the discriminator losses on fake images\n",
        "            D_fake = D(fake_images)\n",
        "            d_fake_loss = fake_loss(D_fake)\n",
        "            \n",
        "            # add up loss and perform backprop\n",
        "            d_loss = d_real_loss + d_fake_loss\n",
        "            d_loss.backward()\n",
        "            d_optimizer.step()\n",
        "\n",
        "            # 2. Train the generator with an adversarial loss\n",
        "            g_optimizer.zero_grad()\n",
        "            \n",
        "            # Generate fake images\n",
        "            z = np.random.uniform(-1, 1, size=(batch_size, z_size))\n",
        "            z = torch.from_numpy(z).float()\n",
        "            if train_on_gpu:\n",
        "                z = z.cuda()\n",
        "            fake_images = G(z)\n",
        "            \n",
        "            # Compute the discriminator losses on fake images \n",
        "            D_fake = D(fake_images)\n",
        "            g_loss = real_loss(D_fake)\n",
        "            \n",
        "            # perfom backprop\n",
        "            g_loss.backward()\n",
        "            g_optimizer.step()\n",
        "            \n",
        "            \n",
        "            # ===============================================\n",
        "            #              END OF YOUR CODE\n",
        "            # ===============================================\n",
        "\n",
        "            # Print some loss stats\n",
        "            if batch_i % print_every == 0:\n",
        "                # append discriminator loss and generator loss\n",
        "                losses.append((d_loss.item(), g_loss.item()))\n",
        "                # print discriminator and generator loss\n",
        "                print('Epoch [{:5d}/{:5d}] | d_loss: {:6.4f} | g_loss: {:6.4f}'.format(\n",
        "                        epoch+1, n_epochs, d_loss.item(), g_loss.item()))\n",
        "\n",
        "\n",
        "        ## AFTER EACH EPOCH##    \n",
        "        # this code assumes your generator is named G, feel free to change the name\n",
        "        # generate and save sample, fake images\n",
        "        G.eval() # for generating samples\n",
        "        samples_z = G(fixed_z)\n",
        "        samples.append(samples_z)\n",
        "        G.train() # back to training mode\n",
        "\n",
        "    # Save training generator samples\n",
        "    with open('train_samples.pkl', 'wb') as f:\n",
        "        pkl.dump(samples, f)\n",
        "    \n",
        "    # finally return losses\n",
        "    return losses"
      ],
      "execution_count": 0,
      "outputs": []
    },
    {
      "cell_type": "markdown",
      "metadata": {
        "id": "Okwe3RfJdhXn",
        "colab_type": "text"
      },
      "source": [
        "Set your number of training epochs and train your GAN!"
      ]
    },
    {
      "cell_type": "code",
      "metadata": {
        "id": "2bIRfIFKdhXs",
        "colab_type": "code",
        "colab": {
          "base_uri": "https://localhost:8080/",
          "height": 1000
        },
        "outputId": "38a2f5c3-6e1d-4301-a82f-e85fb1843ba3"
      },
      "source": [
        "# set number of epochs \n",
        "n_epochs = 30\n",
        "\n",
        "\n",
        "\"\"\"\n",
        "DON'T MODIFY ANYTHING IN THIS CELL\n",
        "\"\"\"\n",
        "# call training function\n",
        "losses = train(D, G, n_epochs=n_epochs)"
      ],
      "execution_count": 108,
      "outputs": [
        {
          "output_type": "stream",
          "text": [
            "Epoch [    1/   30] | d_loss: 1.6118 | g_loss: 2.1438\n",
            "Epoch [    1/   30] | d_loss: 0.4954 | g_loss: 3.6309\n",
            "Epoch [    1/   30] | d_loss: 0.8661 | g_loss: 2.9186\n",
            "Epoch [    1/   30] | d_loss: 1.2983 | g_loss: 5.0764\n",
            "Epoch [    1/   30] | d_loss: 0.7402 | g_loss: 2.9901\n",
            "Epoch [    1/   30] | d_loss: 0.8318 | g_loss: 3.0646\n",
            "Epoch [    1/   30] | d_loss: 0.8001 | g_loss: 3.0399\n",
            "Epoch [    1/   30] | d_loss: 0.8962 | g_loss: 3.5021\n",
            "Epoch [    1/   30] | d_loss: 1.0038 | g_loss: 3.4899\n",
            "Epoch [    1/   30] | d_loss: 0.8130 | g_loss: 2.9062\n",
            "Epoch [    1/   30] | d_loss: 0.8498 | g_loss: 2.1394\n",
            "Epoch [    1/   30] | d_loss: 0.8617 | g_loss: 2.2501\n",
            "Epoch [    1/   30] | d_loss: 0.9226 | g_loss: 3.0396\n",
            "Epoch [    1/   30] | d_loss: 0.6937 | g_loss: 2.9703\n",
            "Epoch [    1/   30] | d_loss: 0.7955 | g_loss: 2.3106\n",
            "Epoch [    2/   30] | d_loss: 0.9235 | g_loss: 2.4242\n",
            "Epoch [    2/   30] | d_loss: 0.9872 | g_loss: 2.9948\n",
            "Epoch [    2/   30] | d_loss: 1.0328 | g_loss: 2.5600\n",
            "Epoch [    2/   30] | d_loss: 1.0767 | g_loss: 1.1784\n",
            "Epoch [    2/   30] | d_loss: 0.9087 | g_loss: 1.5247\n",
            "Epoch [    2/   30] | d_loss: 1.0776 | g_loss: 1.0892\n",
            "Epoch [    2/   30] | d_loss: 0.9796 | g_loss: 2.2622\n",
            "Epoch [    2/   30] | d_loss: 0.8495 | g_loss: 1.7417\n",
            "Epoch [    2/   30] | d_loss: 1.0299 | g_loss: 2.3997\n",
            "Epoch [    2/   30] | d_loss: 0.9974 | g_loss: 1.4524\n",
            "Epoch [    2/   30] | d_loss: 0.7504 | g_loss: 2.3305\n",
            "Epoch [    2/   30] | d_loss: 0.8745 | g_loss: 1.7033\n",
            "Epoch [    2/   30] | d_loss: 0.9676 | g_loss: 1.9360\n",
            "Epoch [    2/   30] | d_loss: 0.9392 | g_loss: 1.6181\n",
            "Epoch [    2/   30] | d_loss: 0.7773 | g_loss: 2.0107\n",
            "Epoch [    3/   30] | d_loss: 1.1419 | g_loss: 0.8742\n",
            "Epoch [    3/   30] | d_loss: 0.9891 | g_loss: 1.4195\n",
            "Epoch [    3/   30] | d_loss: 0.9197 | g_loss: 1.6249\n",
            "Epoch [    3/   30] | d_loss: 1.1647 | g_loss: 2.9227\n",
            "Epoch [    3/   30] | d_loss: 0.9277 | g_loss: 1.8936\n",
            "Epoch [    3/   30] | d_loss: 0.8677 | g_loss: 1.9434\n",
            "Epoch [    3/   30] | d_loss: 1.1033 | g_loss: 1.5820\n",
            "Epoch [    3/   30] | d_loss: 0.7078 | g_loss: 2.1353\n",
            "Epoch [    3/   30] | d_loss: 1.0623 | g_loss: 1.2739\n",
            "Epoch [    3/   30] | d_loss: 0.9405 | g_loss: 1.5002\n",
            "Epoch [    3/   30] | d_loss: 0.8648 | g_loss: 2.0454\n",
            "Epoch [    3/   30] | d_loss: 1.0555 | g_loss: 1.2424\n",
            "Epoch [    3/   30] | d_loss: 0.7926 | g_loss: 2.0240\n",
            "Epoch [    3/   30] | d_loss: 0.8175 | g_loss: 1.8304\n",
            "Epoch [    3/   30] | d_loss: 1.0302 | g_loss: 1.4847\n",
            "Epoch [    4/   30] | d_loss: 0.8108 | g_loss: 2.4133\n",
            "Epoch [    4/   30] | d_loss: 0.8978 | g_loss: 2.5644\n",
            "Epoch [    4/   30] | d_loss: 0.9046 | g_loss: 2.3834\n",
            "Epoch [    4/   30] | d_loss: 0.8396 | g_loss: 1.7695\n",
            "Epoch [    4/   30] | d_loss: 0.7135 | g_loss: 2.1955\n",
            "Epoch [    4/   30] | d_loss: 0.9313 | g_loss: 1.8941\n",
            "Epoch [    4/   30] | d_loss: 0.7281 | g_loss: 2.4337\n",
            "Epoch [    4/   30] | d_loss: 0.9343 | g_loss: 2.3596\n",
            "Epoch [    4/   30] | d_loss: 0.9620 | g_loss: 1.4065\n",
            "Epoch [    4/   30] | d_loss: 1.2174 | g_loss: 1.2473\n",
            "Epoch [    4/   30] | d_loss: 0.7607 | g_loss: 2.3663\n",
            "Epoch [    4/   30] | d_loss: 0.8236 | g_loss: 2.0717\n",
            "Epoch [    4/   30] | d_loss: 0.8898 | g_loss: 1.5142\n",
            "Epoch [    4/   30] | d_loss: 1.0039 | g_loss: 1.0977\n",
            "Epoch [    4/   30] | d_loss: 0.9806 | g_loss: 3.3552\n",
            "Epoch [    5/   30] | d_loss: 0.9900 | g_loss: 1.4112\n",
            "Epoch [    5/   30] | d_loss: 0.9215 | g_loss: 1.5029\n",
            "Epoch [    5/   30] | d_loss: 0.8771 | g_loss: 1.2607\n",
            "Epoch [    5/   30] | d_loss: 0.8483 | g_loss: 2.4881\n",
            "Epoch [    5/   30] | d_loss: 0.9773 | g_loss: 1.5317\n",
            "Epoch [    5/   30] | d_loss: 0.7693 | g_loss: 1.6912\n",
            "Epoch [    5/   30] | d_loss: 0.8952 | g_loss: 1.5622\n",
            "Epoch [    5/   30] | d_loss: 0.7177 | g_loss: 2.4015\n",
            "Epoch [    5/   30] | d_loss: 1.1226 | g_loss: 2.3927\n",
            "Epoch [    5/   30] | d_loss: 0.9968 | g_loss: 1.4040\n",
            "Epoch [    5/   30] | d_loss: 1.0048 | g_loss: 1.1408\n",
            "Epoch [    5/   30] | d_loss: 2.0968 | g_loss: 1.6354\n",
            "Epoch [    5/   30] | d_loss: 0.8327 | g_loss: 2.0279\n",
            "Epoch [    5/   30] | d_loss: 0.9247 | g_loss: 2.0466\n",
            "Epoch [    5/   30] | d_loss: 0.9058 | g_loss: 1.0035\n",
            "Epoch [    6/   30] | d_loss: 1.0690 | g_loss: 2.7718\n",
            "Epoch [    6/   30] | d_loss: 0.7552 | g_loss: 2.4371\n",
            "Epoch [    6/   30] | d_loss: 0.9153 | g_loss: 1.4359\n",
            "Epoch [    6/   30] | d_loss: 0.8650 | g_loss: 1.5672\n",
            "Epoch [    6/   30] | d_loss: 0.7414 | g_loss: 2.1996\n",
            "Epoch [    6/   30] | d_loss: 0.8030 | g_loss: 2.2956\n",
            "Epoch [    6/   30] | d_loss: 1.1209 | g_loss: 3.3938\n",
            "Epoch [    6/   30] | d_loss: 0.7648 | g_loss: 1.8588\n",
            "Epoch [    6/   30] | d_loss: 1.3638 | g_loss: 3.2383\n",
            "Epoch [    6/   30] | d_loss: 0.9598 | g_loss: 1.3887\n",
            "Epoch [    6/   30] | d_loss: 0.7981 | g_loss: 2.5543\n",
            "Epoch [    6/   30] | d_loss: 0.8852 | g_loss: 1.7472\n",
            "Epoch [    6/   30] | d_loss: 0.7154 | g_loss: 2.3495\n",
            "Epoch [    6/   30] | d_loss: 0.9451 | g_loss: 2.4273\n",
            "Epoch [    6/   30] | d_loss: 0.8783 | g_loss: 1.5398\n",
            "Epoch [    7/   30] | d_loss: 0.8342 | g_loss: 2.9077\n",
            "Epoch [    7/   30] | d_loss: 0.8723 | g_loss: 1.9298\n",
            "Epoch [    7/   30] | d_loss: 0.7026 | g_loss: 1.3722\n",
            "Epoch [    7/   30] | d_loss: 1.0266 | g_loss: 1.6632\n",
            "Epoch [    7/   30] | d_loss: 0.7766 | g_loss: 2.3841\n",
            "Epoch [    7/   30] | d_loss: 0.8359 | g_loss: 1.5960\n",
            "Epoch [    7/   30] | d_loss: 0.8849 | g_loss: 3.0368\n",
            "Epoch [    7/   30] | d_loss: 0.9388 | g_loss: 2.2061\n",
            "Epoch [    7/   30] | d_loss: 0.8201 | g_loss: 1.9490\n",
            "Epoch [    7/   30] | d_loss: 0.8699 | g_loss: 1.4099\n",
            "Epoch [    7/   30] | d_loss: 0.7978 | g_loss: 1.4673\n",
            "Epoch [    7/   30] | d_loss: 0.9248 | g_loss: 1.8684\n",
            "Epoch [    7/   30] | d_loss: 0.7480 | g_loss: 2.0937\n",
            "Epoch [    7/   30] | d_loss: 1.0419 | g_loss: 0.8791\n",
            "Epoch [    7/   30] | d_loss: 1.4965 | g_loss: 1.5657\n",
            "Epoch [    8/   30] | d_loss: 0.7681 | g_loss: 1.9221\n",
            "Epoch [    8/   30] | d_loss: 0.7429 | g_loss: 2.1562\n",
            "Epoch [    8/   30] | d_loss: 0.9179 | g_loss: 1.8033\n",
            "Epoch [    8/   30] | d_loss: 0.7320 | g_loss: 2.3445\n",
            "Epoch [    8/   30] | d_loss: 0.7947 | g_loss: 1.7848\n",
            "Epoch [    8/   30] | d_loss: 0.7417 | g_loss: 2.8066\n",
            "Epoch [    8/   30] | d_loss: 0.8758 | g_loss: 1.2935\n",
            "Epoch [    8/   30] | d_loss: 0.6985 | g_loss: 1.8821\n",
            "Epoch [    8/   30] | d_loss: 0.6987 | g_loss: 2.2682\n",
            "Epoch [    8/   30] | d_loss: 0.9750 | g_loss: 1.6530\n",
            "Epoch [    8/   30] | d_loss: 0.6941 | g_loss: 2.7942\n",
            "Epoch [    8/   30] | d_loss: 0.9423 | g_loss: 2.7892\n",
            "Epoch [    8/   30] | d_loss: 0.7927 | g_loss: 1.8920\n",
            "Epoch [    8/   30] | d_loss: 0.6711 | g_loss: 2.3492\n",
            "Epoch [    8/   30] | d_loss: 0.8692 | g_loss: 0.9248\n",
            "Epoch [    9/   30] | d_loss: 0.7094 | g_loss: 2.1553\n",
            "Epoch [    9/   30] | d_loss: 0.7300 | g_loss: 1.7350\n",
            "Epoch [    9/   30] | d_loss: 0.7193 | g_loss: 2.4678\n",
            "Epoch [    9/   30] | d_loss: 0.6795 | g_loss: 2.1665\n",
            "Epoch [    9/   30] | d_loss: 0.8383 | g_loss: 1.7256\n",
            "Epoch [    9/   30] | d_loss: 0.7257 | g_loss: 2.4153\n",
            "Epoch [    9/   30] | d_loss: 0.7717 | g_loss: 2.0056\n",
            "Epoch [    9/   30] | d_loss: 0.9220 | g_loss: 1.4032\n",
            "Epoch [    9/   30] | d_loss: 0.8801 | g_loss: 1.4143\n",
            "Epoch [    9/   30] | d_loss: 0.8053 | g_loss: 1.9506\n",
            "Epoch [    9/   30] | d_loss: 0.9536 | g_loss: 2.7132\n",
            "Epoch [    9/   30] | d_loss: 0.8618 | g_loss: 2.3608\n",
            "Epoch [    9/   30] | d_loss: 0.7561 | g_loss: 2.1617\n",
            "Epoch [    9/   30] | d_loss: 0.6247 | g_loss: 1.3711\n",
            "Epoch [    9/   30] | d_loss: 0.6895 | g_loss: 1.7923\n",
            "Epoch [   10/   30] | d_loss: 0.7774 | g_loss: 2.6857\n",
            "Epoch [   10/   30] | d_loss: 0.9161 | g_loss: 2.3846\n",
            "Epoch [   10/   30] | d_loss: 0.7179 | g_loss: 3.0222\n",
            "Epoch [   10/   30] | d_loss: 0.7428 | g_loss: 2.4920\n",
            "Epoch [   10/   30] | d_loss: 0.6039 | g_loss: 2.0991\n",
            "Epoch [   10/   30] | d_loss: 0.8022 | g_loss: 1.4902\n",
            "Epoch [   10/   30] | d_loss: 0.6297 | g_loss: 2.3107\n",
            "Epoch [   10/   30] | d_loss: 0.8771 | g_loss: 2.3925\n",
            "Epoch [   10/   30] | d_loss: 0.6517 | g_loss: 3.1112\n",
            "Epoch [   10/   30] | d_loss: 0.6239 | g_loss: 3.0831\n",
            "Epoch [   10/   30] | d_loss: 0.8372 | g_loss: 2.1939\n",
            "Epoch [   10/   30] | d_loss: 0.6245 | g_loss: 1.9523\n",
            "Epoch [   10/   30] | d_loss: 0.7529 | g_loss: 1.8204\n",
            "Epoch [   10/   30] | d_loss: 0.8177 | g_loss: 1.3085\n",
            "Epoch [   10/   30] | d_loss: 0.6471 | g_loss: 2.4385\n",
            "Epoch [   11/   30] | d_loss: 0.7264 | g_loss: 2.2520\n",
            "Epoch [   11/   30] | d_loss: 0.6685 | g_loss: 2.3337\n",
            "Epoch [   11/   30] | d_loss: 0.8202 | g_loss: 2.9691\n",
            "Epoch [   11/   30] | d_loss: 0.5551 | g_loss: 1.6356\n",
            "Epoch [   11/   30] | d_loss: 0.6748 | g_loss: 2.1043\n",
            "Epoch [   11/   30] | d_loss: 0.8487 | g_loss: 3.2809\n",
            "Epoch [   11/   30] | d_loss: 0.9081 | g_loss: 1.6607\n",
            "Epoch [   11/   30] | d_loss: 0.6889 | g_loss: 1.7687\n",
            "Epoch [   11/   30] | d_loss: 0.8373 | g_loss: 2.1553\n",
            "Epoch [   11/   30] | d_loss: 0.7887 | g_loss: 2.2487\n",
            "Epoch [   11/   30] | d_loss: 0.5180 | g_loss: 2.8468\n",
            "Epoch [   11/   30] | d_loss: 0.6179 | g_loss: 2.4375\n",
            "Epoch [   11/   30] | d_loss: 0.6655 | g_loss: 1.7567\n",
            "Epoch [   11/   30] | d_loss: 0.7617 | g_loss: 1.0493\n",
            "Epoch [   11/   30] | d_loss: 0.8356 | g_loss: 3.7473\n",
            "Epoch [   12/   30] | d_loss: 0.6049 | g_loss: 2.7295\n",
            "Epoch [   12/   30] | d_loss: 0.7004 | g_loss: 2.1515\n",
            "Epoch [   12/   30] | d_loss: 0.6251 | g_loss: 2.1539\n",
            "Epoch [   12/   30] | d_loss: 0.9135 | g_loss: 1.9563\n",
            "Epoch [   12/   30] | d_loss: 0.7759 | g_loss: 2.5351\n",
            "Epoch [   12/   30] | d_loss: 0.7269 | g_loss: 2.0795\n",
            "Epoch [   12/   30] | d_loss: 0.6149 | g_loss: 2.8397\n",
            "Epoch [   12/   30] | d_loss: 1.0994 | g_loss: 1.5662\n",
            "Epoch [   12/   30] | d_loss: 0.6587 | g_loss: 2.0925\n",
            "Epoch [   12/   30] | d_loss: 0.7585 | g_loss: 1.7618\n",
            "Epoch [   12/   30] | d_loss: 0.7952 | g_loss: 2.2042\n",
            "Epoch [   12/   30] | d_loss: 0.7437 | g_loss: 2.6083\n",
            "Epoch [   12/   30] | d_loss: 0.6544 | g_loss: 2.9338\n",
            "Epoch [   12/   30] | d_loss: 0.8138 | g_loss: 1.5931\n",
            "Epoch [   12/   30] | d_loss: 0.5677 | g_loss: 1.7734\n",
            "Epoch [   13/   30] | d_loss: 0.6371 | g_loss: 1.6389\n",
            "Epoch [   13/   30] | d_loss: 0.6745 | g_loss: 2.3482\n",
            "Epoch [   13/   30] | d_loss: 0.6197 | g_loss: 1.7290\n",
            "Epoch [   13/   30] | d_loss: 0.5852 | g_loss: 2.0493\n",
            "Epoch [   13/   30] | d_loss: 0.7664 | g_loss: 2.6038\n",
            "Epoch [   13/   30] | d_loss: 0.9663 | g_loss: 0.6496\n",
            "Epoch [   13/   30] | d_loss: 0.5569 | g_loss: 2.2944\n",
            "Epoch [   13/   30] | d_loss: 0.5043 | g_loss: 2.6919\n",
            "Epoch [   13/   30] | d_loss: 1.4055 | g_loss: 1.9724\n",
            "Epoch [   13/   30] | d_loss: 0.5625 | g_loss: 1.9364\n",
            "Epoch [   13/   30] | d_loss: 0.7198 | g_loss: 1.4738\n",
            "Epoch [   13/   30] | d_loss: 0.8106 | g_loss: 2.7400\n",
            "Epoch [   13/   30] | d_loss: 0.7400 | g_loss: 1.6830\n",
            "Epoch [   13/   30] | d_loss: 0.4780 | g_loss: 1.8409\n",
            "Epoch [   13/   30] | d_loss: 0.5819 | g_loss: 2.3588\n",
            "Epoch [   14/   30] | d_loss: 0.5929 | g_loss: 2.7277\n",
            "Epoch [   14/   30] | d_loss: 0.6926 | g_loss: 3.1464\n",
            "Epoch [   14/   30] | d_loss: 0.6562 | g_loss: 3.0292\n",
            "Epoch [   14/   30] | d_loss: 0.6351 | g_loss: 2.8817\n",
            "Epoch [   14/   30] | d_loss: 0.7259 | g_loss: 1.9219\n",
            "Epoch [   14/   30] | d_loss: 0.7409 | g_loss: 3.2656\n",
            "Epoch [   14/   30] | d_loss: 0.5644 | g_loss: 2.0618\n",
            "Epoch [   14/   30] | d_loss: 1.0850 | g_loss: 1.4779\n",
            "Epoch [   14/   30] | d_loss: 0.8176 | g_loss: 1.8288\n",
            "Epoch [   14/   30] | d_loss: 0.6299 | g_loss: 2.8537\n",
            "Epoch [   14/   30] | d_loss: 0.7123 | g_loss: 2.9091\n",
            "Epoch [   14/   30] | d_loss: 0.4858 | g_loss: 2.5758\n",
            "Epoch [   14/   30] | d_loss: 0.8633 | g_loss: 1.4717\n",
            "Epoch [   14/   30] | d_loss: 0.6249 | g_loss: 3.0447\n",
            "Epoch [   14/   30] | d_loss: 0.6686 | g_loss: 3.4415\n",
            "Epoch [   15/   30] | d_loss: 0.6699 | g_loss: 2.1704\n",
            "Epoch [   15/   30] | d_loss: 1.1004 | g_loss: 3.9806\n",
            "Epoch [   15/   30] | d_loss: 0.7875 | g_loss: 3.8634\n",
            "Epoch [   15/   30] | d_loss: 0.8765 | g_loss: 1.8349\n",
            "Epoch [   15/   30] | d_loss: 0.5489 | g_loss: 2.1081\n",
            "Epoch [   15/   30] | d_loss: 0.5371 | g_loss: 2.1355\n",
            "Epoch [   15/   30] | d_loss: 0.6042 | g_loss: 2.6257\n",
            "Epoch [   15/   30] | d_loss: 0.9267 | g_loss: 4.7625\n",
            "Epoch [   15/   30] | d_loss: 0.6814 | g_loss: 1.4861\n",
            "Epoch [   15/   30] | d_loss: 0.6864 | g_loss: 2.8633\n",
            "Epoch [   15/   30] | d_loss: 0.5626 | g_loss: 1.7155\n",
            "Epoch [   15/   30] | d_loss: 0.4535 | g_loss: 2.1468\n",
            "Epoch [   15/   30] | d_loss: 1.0374 | g_loss: 1.2991\n",
            "Epoch [   15/   30] | d_loss: 0.9488 | g_loss: 1.3644\n",
            "Epoch [   15/   30] | d_loss: 0.7928 | g_loss: 2.2879\n",
            "Epoch [   16/   30] | d_loss: 1.2948 | g_loss: 1.2034\n",
            "Epoch [   16/   30] | d_loss: 0.7661 | g_loss: 3.2076\n",
            "Epoch [   16/   30] | d_loss: 0.5834 | g_loss: 2.6558\n",
            "Epoch [   16/   30] | d_loss: 0.5782 | g_loss: 2.5824\n",
            "Epoch [   16/   30] | d_loss: 0.9130 | g_loss: 3.5671\n",
            "Epoch [   16/   30] | d_loss: 0.5570 | g_loss: 2.3164\n",
            "Epoch [   16/   30] | d_loss: 0.6854 | g_loss: 2.1005\n",
            "Epoch [   16/   30] | d_loss: 0.7854 | g_loss: 3.3733\n",
            "Epoch [   16/   30] | d_loss: 0.5656 | g_loss: 2.7433\n",
            "Epoch [   16/   30] | d_loss: 0.7011 | g_loss: 1.1297\n",
            "Epoch [   16/   30] | d_loss: 0.8328 | g_loss: 1.4829\n",
            "Epoch [   16/   30] | d_loss: 0.6078 | g_loss: 1.4751\n",
            "Epoch [   16/   30] | d_loss: 0.5733 | g_loss: 3.0332\n",
            "Epoch [   16/   30] | d_loss: 0.4824 | g_loss: 2.8647\n",
            "Epoch [   16/   30] | d_loss: 0.8093 | g_loss: 1.5160\n",
            "Epoch [   17/   30] | d_loss: 0.4961 | g_loss: 3.3687\n",
            "Epoch [   17/   30] | d_loss: 0.6966 | g_loss: 1.8783\n",
            "Epoch [   17/   30] | d_loss: 0.4449 | g_loss: 3.8773\n",
            "Epoch [   17/   30] | d_loss: 0.5972 | g_loss: 2.2229\n",
            "Epoch [   17/   30] | d_loss: 0.4698 | g_loss: 3.4035\n",
            "Epoch [   17/   30] | d_loss: 0.5181 | g_loss: 3.2577\n",
            "Epoch [   17/   30] | d_loss: 0.7831 | g_loss: 1.7482\n",
            "Epoch [   17/   30] | d_loss: 0.5329 | g_loss: 3.9676\n",
            "Epoch [   17/   30] | d_loss: 1.0270 | g_loss: 3.6764\n",
            "Epoch [   17/   30] | d_loss: 0.4519 | g_loss: 3.1199\n",
            "Epoch [   17/   30] | d_loss: 0.6421 | g_loss: 2.0758\n",
            "Epoch [   17/   30] | d_loss: 0.6276 | g_loss: 3.1341\n",
            "Epoch [   17/   30] | d_loss: 0.5730 | g_loss: 1.8831\n",
            "Epoch [   17/   30] | d_loss: 0.7315 | g_loss: 2.2250\n",
            "Epoch [   17/   30] | d_loss: 0.5849 | g_loss: 2.5920\n",
            "Epoch [   18/   30] | d_loss: 0.6004 | g_loss: 1.8883\n",
            "Epoch [   18/   30] | d_loss: 0.5941 | g_loss: 2.3971\n",
            "Epoch [   18/   30] | d_loss: 0.7176 | g_loss: 2.8541\n",
            "Epoch [   18/   30] | d_loss: 0.5574 | g_loss: 2.3724\n",
            "Epoch [   18/   30] | d_loss: 0.7552 | g_loss: 2.6962\n",
            "Epoch [   18/   30] | d_loss: 0.6294 | g_loss: 2.2040\n",
            "Epoch [   18/   30] | d_loss: 0.6121 | g_loss: 2.8155\n",
            "Epoch [   18/   30] | d_loss: 0.4648 | g_loss: 2.7750\n",
            "Epoch [   18/   30] | d_loss: 0.5340 | g_loss: 3.4948\n",
            "Epoch [   18/   30] | d_loss: 0.7910 | g_loss: 2.7262\n",
            "Epoch [   18/   30] | d_loss: 0.6166 | g_loss: 1.9644\n",
            "Epoch [   18/   30] | d_loss: 0.7181 | g_loss: 2.2267\n",
            "Epoch [   18/   30] | d_loss: 0.7866 | g_loss: 1.8324\n",
            "Epoch [   18/   30] | d_loss: 1.2576 | g_loss: 1.9358\n",
            "Epoch [   18/   30] | d_loss: 0.5427 | g_loss: 3.0901\n",
            "Epoch [   19/   30] | d_loss: 0.7571 | g_loss: 2.4039\n",
            "Epoch [   19/   30] | d_loss: 0.6708 | g_loss: 2.6892\n",
            "Epoch [   19/   30] | d_loss: 0.6158 | g_loss: 1.8490\n",
            "Epoch [   19/   30] | d_loss: 0.5206 | g_loss: 3.0611\n",
            "Epoch [   19/   30] | d_loss: 0.8181 | g_loss: 2.8000\n",
            "Epoch [   19/   30] | d_loss: 0.5153 | g_loss: 2.4404\n",
            "Epoch [   19/   30] | d_loss: 0.4596 | g_loss: 2.4274\n",
            "Epoch [   19/   30] | d_loss: 0.5737 | g_loss: 1.8803\n",
            "Epoch [   19/   30] | d_loss: 0.4669 | g_loss: 3.7081\n",
            "Epoch [   19/   30] | d_loss: 0.6113 | g_loss: 1.8391\n",
            "Epoch [   19/   30] | d_loss: 0.4422 | g_loss: 2.9157\n",
            "Epoch [   19/   30] | d_loss: 0.5467 | g_loss: 2.7569\n",
            "Epoch [   19/   30] | d_loss: 0.6257 | g_loss: 2.4256\n",
            "Epoch [   19/   30] | d_loss: 0.6782 | g_loss: 1.3722\n",
            "Epoch [   19/   30] | d_loss: 0.7461 | g_loss: 2.1180\n",
            "Epoch [   20/   30] | d_loss: 0.6154 | g_loss: 2.6537\n",
            "Epoch [   20/   30] | d_loss: 0.4608 | g_loss: 3.2669\n",
            "Epoch [   20/   30] | d_loss: 0.5532 | g_loss: 3.2421\n",
            "Epoch [   20/   30] | d_loss: 0.6392 | g_loss: 2.3233\n",
            "Epoch [   20/   30] | d_loss: 0.4587 | g_loss: 3.7569\n",
            "Epoch [   20/   30] | d_loss: 0.5991 | g_loss: 2.4436\n",
            "Epoch [   20/   30] | d_loss: 0.5349 | g_loss: 3.3758\n",
            "Epoch [   20/   30] | d_loss: 0.5280 | g_loss: 1.6291\n",
            "Epoch [   20/   30] | d_loss: 0.5362 | g_loss: 3.2296\n",
            "Epoch [   20/   30] | d_loss: 0.4865 | g_loss: 2.2467\n",
            "Epoch [   20/   30] | d_loss: 0.5603 | g_loss: 2.7596\n",
            "Epoch [   20/   30] | d_loss: 0.7633 | g_loss: 3.9285\n",
            "Epoch [   20/   30] | d_loss: 0.5633 | g_loss: 2.1536\n",
            "Epoch [   20/   30] | d_loss: 0.4777 | g_loss: 2.4639\n",
            "Epoch [   20/   30] | d_loss: 0.5259 | g_loss: 2.3037\n",
            "Epoch [   21/   30] | d_loss: 0.5029 | g_loss: 3.3102\n",
            "Epoch [   21/   30] | d_loss: 0.7521 | g_loss: 3.3263\n",
            "Epoch [   21/   30] | d_loss: 2.6093 | g_loss: 2.3494\n",
            "Epoch [   21/   30] | d_loss: 0.6117 | g_loss: 1.8818\n",
            "Epoch [   21/   30] | d_loss: 0.5013 | g_loss: 2.7896\n",
            "Epoch [   21/   30] | d_loss: 0.7023 | g_loss: 2.2372\n",
            "Epoch [   21/   30] | d_loss: 0.4146 | g_loss: 4.1498\n",
            "Epoch [   21/   30] | d_loss: 0.4912 | g_loss: 3.2462\n",
            "Epoch [   21/   30] | d_loss: 0.5772 | g_loss: 2.3371\n",
            "Epoch [   21/   30] | d_loss: 0.5636 | g_loss: 1.6374\n",
            "Epoch [   21/   30] | d_loss: 0.6140 | g_loss: 2.1199\n",
            "Epoch [   21/   30] | d_loss: 1.0116 | g_loss: 1.9507\n",
            "Epoch [   21/   30] | d_loss: 0.5599 | g_loss: 2.4731\n",
            "Epoch [   21/   30] | d_loss: 0.4367 | g_loss: 3.1638\n",
            "Epoch [   21/   30] | d_loss: 0.5297 | g_loss: 2.6200\n",
            "Epoch [   22/   30] | d_loss: 0.4669 | g_loss: 3.0365\n",
            "Epoch [   22/   30] | d_loss: 0.6111 | g_loss: 2.0623\n",
            "Epoch [   22/   30] | d_loss: 0.5115 | g_loss: 3.0855\n",
            "Epoch [   22/   30] | d_loss: 0.6700 | g_loss: 3.3582\n",
            "Epoch [   22/   30] | d_loss: 0.5546 | g_loss: 4.1835\n",
            "Epoch [   22/   30] | d_loss: 0.8302 | g_loss: 3.9247\n",
            "Epoch [   22/   30] | d_loss: 0.4833 | g_loss: 3.1865\n",
            "Epoch [   22/   30] | d_loss: 0.5640 | g_loss: 2.3591\n",
            "Epoch [   22/   30] | d_loss: 0.5601 | g_loss: 2.6011\n",
            "Epoch [   22/   30] | d_loss: 0.4819 | g_loss: 3.6450\n",
            "Epoch [   22/   30] | d_loss: 0.6734 | g_loss: 2.8601\n",
            "Epoch [   22/   30] | d_loss: 0.8163 | g_loss: 1.8602\n",
            "Epoch [   22/   30] | d_loss: 0.5869 | g_loss: 2.0449\n",
            "Epoch [   22/   30] | d_loss: 1.2581 | g_loss: 1.9444\n",
            "Epoch [   22/   30] | d_loss: 0.5121 | g_loss: 2.2500\n",
            "Epoch [   23/   30] | d_loss: 0.4862 | g_loss: 2.7866\n",
            "Epoch [   23/   30] | d_loss: 0.6170 | g_loss: 3.5688\n",
            "Epoch [   23/   30] | d_loss: 0.6715 | g_loss: 2.9402\n",
            "Epoch [   23/   30] | d_loss: 0.6876 | g_loss: 3.6864\n",
            "Epoch [   23/   30] | d_loss: 0.5609 | g_loss: 2.8163\n",
            "Epoch [   23/   30] | d_loss: 0.4712 | g_loss: 3.2752\n",
            "Epoch [   23/   30] | d_loss: 0.4684 | g_loss: 2.6953\n",
            "Epoch [   23/   30] | d_loss: 0.7208 | g_loss: 1.3831\n",
            "Epoch [   23/   30] | d_loss: 0.5111 | g_loss: 3.1496\n",
            "Epoch [   23/   30] | d_loss: 0.6839 | g_loss: 3.5920\n",
            "Epoch [   23/   30] | d_loss: 0.5102 | g_loss: 2.7006\n",
            "Epoch [   23/   30] | d_loss: 1.2169 | g_loss: 6.1526\n",
            "Epoch [   23/   30] | d_loss: 0.4732 | g_loss: 2.0963\n",
            "Epoch [   23/   30] | d_loss: 2.1500 | g_loss: 0.8102\n",
            "Epoch [   23/   30] | d_loss: 0.5002 | g_loss: 3.3829\n",
            "Epoch [   24/   30] | d_loss: 0.4797 | g_loss: 3.1379\n",
            "Epoch [   24/   30] | d_loss: 0.6190 | g_loss: 2.3984\n",
            "Epoch [   24/   30] | d_loss: 0.4633 | g_loss: 2.9437\n",
            "Epoch [   24/   30] | d_loss: 1.0149 | g_loss: 1.1077\n",
            "Epoch [   24/   30] | d_loss: 0.4413 | g_loss: 3.3411\n",
            "Epoch [   24/   30] | d_loss: 0.6256 | g_loss: 1.8456\n",
            "Epoch [   24/   30] | d_loss: 0.4266 | g_loss: 3.0782\n",
            "Epoch [   24/   30] | d_loss: 0.7368 | g_loss: 2.5654\n",
            "Epoch [   24/   30] | d_loss: 0.9218 | g_loss: 3.9993\n",
            "Epoch [   24/   30] | d_loss: 0.5352 | g_loss: 2.4351\n",
            "Epoch [   24/   30] | d_loss: 0.5707 | g_loss: 3.3353\n",
            "Epoch [   24/   30] | d_loss: 0.6378 | g_loss: 2.3685\n",
            "Epoch [   24/   30] | d_loss: 0.4622 | g_loss: 3.1429\n",
            "Epoch [   24/   30] | d_loss: 0.5749 | g_loss: 1.8545\n",
            "Epoch [   24/   30] | d_loss: 0.4846 | g_loss: 3.1132\n",
            "Epoch [   25/   30] | d_loss: 0.6118 | g_loss: 1.8150\n",
            "Epoch [   25/   30] | d_loss: 0.4867 | g_loss: 2.9661\n",
            "Epoch [   25/   30] | d_loss: 0.5767 | g_loss: 2.8661\n",
            "Epoch [   25/   30] | d_loss: 0.6808 | g_loss: 2.2624\n",
            "Epoch [   25/   30] | d_loss: 0.5703 | g_loss: 3.3034\n",
            "Epoch [   25/   30] | d_loss: 0.4949 | g_loss: 3.8157\n",
            "Epoch [   25/   30] | d_loss: 0.4363 | g_loss: 3.0096\n",
            "Epoch [   25/   30] | d_loss: 0.5595 | g_loss: 2.0108\n",
            "Epoch [   25/   30] | d_loss: 0.6969 | g_loss: 3.5627\n",
            "Epoch [   25/   30] | d_loss: 0.4256 | g_loss: 3.6671\n",
            "Epoch [   25/   30] | d_loss: 2.3400 | g_loss: 3.6137\n",
            "Epoch [   25/   30] | d_loss: 0.4670 | g_loss: 2.8938\n",
            "Epoch [   25/   30] | d_loss: 0.6783 | g_loss: 3.4846\n",
            "Epoch [   25/   30] | d_loss: 0.5294 | g_loss: 2.5700\n",
            "Epoch [   25/   30] | d_loss: 0.4912 | g_loss: 2.7691\n",
            "Epoch [   26/   30] | d_loss: 0.5451 | g_loss: 3.3112\n",
            "Epoch [   26/   30] | d_loss: 0.4732 | g_loss: 3.3846\n",
            "Epoch [   26/   30] | d_loss: 0.5609 | g_loss: 3.2283\n",
            "Epoch [   26/   30] | d_loss: 0.4708 | g_loss: 2.1039\n",
            "Epoch [   26/   30] | d_loss: 0.5680 | g_loss: 2.0581\n",
            "Epoch [   26/   30] | d_loss: 0.6879 | g_loss: 1.5903\n",
            "Epoch [   26/   30] | d_loss: 1.4622 | g_loss: 1.0086\n",
            "Epoch [   26/   30] | d_loss: 0.4601 | g_loss: 2.9441\n",
            "Epoch [   26/   30] | d_loss: 0.5316 | g_loss: 3.0358\n",
            "Epoch [   26/   30] | d_loss: 0.5763 | g_loss: 3.1757\n",
            "Epoch [   26/   30] | d_loss: 0.4936 | g_loss: 3.2826\n",
            "Epoch [   26/   30] | d_loss: 0.6005 | g_loss: 2.6898\n",
            "Epoch [   26/   30] | d_loss: 0.4835 | g_loss: 3.2847\n",
            "Epoch [   26/   30] | d_loss: 0.5911 | g_loss: 2.4927\n",
            "Epoch [   26/   30] | d_loss: 0.4980 | g_loss: 2.4908\n",
            "Epoch [   27/   30] | d_loss: 0.4548 | g_loss: 2.3532\n",
            "Epoch [   27/   30] | d_loss: 0.5138 | g_loss: 1.7146\n",
            "Epoch [   27/   30] | d_loss: 0.4761 | g_loss: 2.3196\n",
            "Epoch [   27/   30] | d_loss: 0.7879 | g_loss: 2.6038\n",
            "Epoch [   27/   30] | d_loss: 0.4376 | g_loss: 4.8656\n",
            "Epoch [   27/   30] | d_loss: 0.4900 | g_loss: 2.6964\n",
            "Epoch [   27/   30] | d_loss: 0.4594 | g_loss: 2.4960\n",
            "Epoch [   27/   30] | d_loss: 0.4200 | g_loss: 3.1310\n",
            "Epoch [   27/   30] | d_loss: 0.5230 | g_loss: 2.9633\n",
            "Epoch [   27/   30] | d_loss: 0.4343 | g_loss: 3.6945\n",
            "Epoch [   27/   30] | d_loss: 0.6911 | g_loss: 2.9488\n",
            "Epoch [   27/   30] | d_loss: 0.6250 | g_loss: 3.6435\n",
            "Epoch [   27/   30] | d_loss: 0.4639 | g_loss: 2.6334\n",
            "Epoch [   27/   30] | d_loss: 0.5919 | g_loss: 2.9476\n",
            "Epoch [   27/   30] | d_loss: 0.7054 | g_loss: 3.6356\n",
            "Epoch [   28/   30] | d_loss: 0.5265 | g_loss: 2.4137\n",
            "Epoch [   28/   30] | d_loss: 0.5113 | g_loss: 2.4974\n",
            "Epoch [   28/   30] | d_loss: 0.8016 | g_loss: 4.0219\n",
            "Epoch [   28/   30] | d_loss: 0.4799 | g_loss: 3.6389\n",
            "Epoch [   28/   30] | d_loss: 0.8843 | g_loss: 1.1181\n",
            "Epoch [   28/   30] | d_loss: 0.5672 | g_loss: 2.3746\n",
            "Epoch [   28/   30] | d_loss: 0.6404 | g_loss: 2.4622\n",
            "Epoch [   28/   30] | d_loss: 0.7231 | g_loss: 2.2968\n",
            "Epoch [   28/   30] | d_loss: 0.7463 | g_loss: 2.9662\n",
            "Epoch [   28/   30] | d_loss: 0.5581 | g_loss: 2.0471\n",
            "Epoch [   28/   30] | d_loss: 0.5787 | g_loss: 2.1768\n",
            "Epoch [   28/   30] | d_loss: 0.5035 | g_loss: 3.8433\n",
            "Epoch [   28/   30] | d_loss: 0.8589 | g_loss: 3.8646\n",
            "Epoch [   28/   30] | d_loss: 0.4994 | g_loss: 3.4764\n",
            "Epoch [   28/   30] | d_loss: 0.5085 | g_loss: 2.5616\n",
            "Epoch [   29/   30] | d_loss: 0.5818 | g_loss: 2.2016\n",
            "Epoch [   29/   30] | d_loss: 0.4976 | g_loss: 3.7496\n",
            "Epoch [   29/   30] | d_loss: 0.5033 | g_loss: 3.3733\n",
            "Epoch [   29/   30] | d_loss: 0.4599 | g_loss: 2.7449\n",
            "Epoch [   29/   30] | d_loss: 0.3943 | g_loss: 3.5431\n",
            "Epoch [   29/   30] | d_loss: 0.5403 | g_loss: 2.1779\n",
            "Epoch [   29/   30] | d_loss: 0.3894 | g_loss: 4.2434\n",
            "Epoch [   29/   30] | d_loss: 0.4876 | g_loss: 1.8325\n",
            "Epoch [   29/   30] | d_loss: 0.4437 | g_loss: 3.8842\n",
            "Epoch [   29/   30] | d_loss: 0.4774 | g_loss: 2.6028\n",
            "Epoch [   29/   30] | d_loss: 0.4301 | g_loss: 4.2387\n",
            "Epoch [   29/   30] | d_loss: 0.9933 | g_loss: 4.0404\n",
            "Epoch [   29/   30] | d_loss: 0.4968 | g_loss: 2.9108\n",
            "Epoch [   29/   30] | d_loss: 0.4936 | g_loss: 2.5249\n",
            "Epoch [   29/   30] | d_loss: 0.4294 | g_loss: 3.4722\n",
            "Epoch [   30/   30] | d_loss: 0.4834 | g_loss: 2.7093\n",
            "Epoch [   30/   30] | d_loss: 0.5742 | g_loss: 2.0461\n",
            "Epoch [   30/   30] | d_loss: 0.4963 | g_loss: 3.1138\n",
            "Epoch [   30/   30] | d_loss: 1.2769 | g_loss: 0.7555\n",
            "Epoch [   30/   30] | d_loss: 0.6477 | g_loss: 1.7674\n",
            "Epoch [   30/   30] | d_loss: 0.4624 | g_loss: 2.4707\n",
            "Epoch [   30/   30] | d_loss: 0.4090 | g_loss: 3.2019\n",
            "Epoch [   30/   30] | d_loss: 0.3958 | g_loss: 4.6352\n",
            "Epoch [   30/   30] | d_loss: 0.4246 | g_loss: 3.1804\n",
            "Epoch [   30/   30] | d_loss: 0.4392 | g_loss: 3.4169\n",
            "Epoch [   30/   30] | d_loss: 0.4446 | g_loss: 3.5614\n",
            "Epoch [   30/   30] | d_loss: 0.4137 | g_loss: 3.3485\n",
            "Epoch [   30/   30] | d_loss: 0.8314 | g_loss: 2.4543\n",
            "Epoch [   30/   30] | d_loss: 0.5190 | g_loss: 3.4302\n",
            "Epoch [   30/   30] | d_loss: 1.4373 | g_loss: 6.9026\n"
          ],
          "name": "stdout"
        }
      ]
    },
    {
      "cell_type": "markdown",
      "metadata": {
        "collapsed": true,
        "id": "8uGjRqW2dhXu",
        "colab_type": "text"
      },
      "source": [
        "## Training loss\n",
        "\n",
        "Plot the training losses for the generator and discriminator, recorded after each epoch."
      ]
    },
    {
      "cell_type": "code",
      "metadata": {
        "id": "szPWGSjZdhXu",
        "colab_type": "code",
        "colab": {
          "base_uri": "https://localhost:8080/",
          "height": 298
        },
        "outputId": "28b4086d-2276-493c-e64f-17a60ca53d88"
      },
      "source": [
        "fig, ax = plt.subplots()\n",
        "losses = np.array(losses)\n",
        "plt.plot(losses.T[0], label='Discriminator', alpha=0.5)\n",
        "plt.plot(losses.T[1], label='Generator', alpha=0.5)\n",
        "plt.title(\"Training Losses\")\n",
        "plt.legend()"
      ],
      "execution_count": 109,
      "outputs": [
        {
          "output_type": "execute_result",
          "data": {
            "text/plain": [
              "<matplotlib.legend.Legend at 0x7fec2529ae48>"
            ]
          },
          "metadata": {
            "tags": []
          },
          "execution_count": 109
        },
        {
          "output_type": "display_data",
          "data": {
            "image/png": "[encoded data removed]",
            "text/plain": [
              "<Figure size 432x288 with 1 Axes>"
            ]
          },
          "metadata": {
            "tags": []
          }
        }
      ]
    },
    {
      "cell_type": "markdown",
      "metadata": {
        "collapsed": true,
        "id": "Y9IPgj5AdhXv",
        "colab_type": "text"
      },
      "source": [
        "## Generator samples from training\n",
        "\n",
        "View samples of images from the generator, and answer a question about the strengths and weaknesses of your trained models."
      ]
    },
    {
      "cell_type": "code",
      "metadata": {
        "id": "wBUeuZaLdhXv",
        "colab_type": "code",
        "colab": {}
      },
      "source": [
        "# helper function for viewing a list of passed in sample images\n",
        "def view_samples(epoch, samples):\n",
        "    fig, axes = plt.subplots(figsize=(16,4), nrows=2, ncols=8, sharey=True, sharex=True)\n",
        "    for ax, img in zip(axes.flatten(), samples[epoch]):\n",
        "        img = img.detach().cpu().numpy()\n",
        "        img = np.transpose(img, (1, 2, 0))\n",
        "        img = ((img + 1)*255 / (2)).astype(np.uint8)\n",
        "        ax.xaxis.set_visible(False)\n",
        "        ax.yaxis.set_visible(False)\n",
        "        im = ax.imshow(img.reshape((32,32,3)))"
      ],
      "execution_count": 0,
      "outputs": []
    },
    {
      "cell_type": "code",
      "metadata": {
        "id": "HcNG8_lEdhXw",
        "colab_type": "code",
        "colab": {}
      },
      "source": [
        "# Load samples from generator, taken while training\n",
        "with open('train_samples.pkl', 'rb') as f:\n",
        "    samples = pkl.load(f)"
      ],
      "execution_count": 0,
      "outputs": []
    },
    {
      "cell_type": "code",
      "metadata": {
        "id": "1UyFzNZ_dhXx",
        "colab_type": "code",
        "colab": {
          "base_uri": "https://localhost:8080/",
          "height": 248
        },
        "outputId": "70cb7df2-27b9-40dc-db3e-a0c66c34774b"
      },
      "source": [
        "_ = view_samples(-1, samples)"
      ],
      "execution_count": 112,
      "outputs": [
        {
          "output_type": "display_data",
          "data": {
            "image/png": "[encoded data removed]",
            "text/plain": [
              "<Figure size 1152x288 with 16 Axes>"
            ]
          },
          "metadata": {
            "tags": []
          }
        }
      ]
    },
    {
      "cell_type": "markdown",
      "metadata": {
        "id": "UgAijruedhXy",
        "colab_type": "text"
      },
      "source": [
        "### Question: What do you notice about your generated samples and how might you improve this model?\n",
        "When you answer this question, consider the following factors:\n",
        "* The dataset is biased; it is made of \"celebrity\" faces that are mostly white\n",
        "* Model size; larger models have the opportunity to learn more features in a data feature space\n",
        "* Optimization strategy; optimizers and number of epochs affect your final result\n"
      ]
    },
    {
      "cell_type": "markdown",
      "metadata": {
        "id": "rzZOq4ixdhXy",
        "colab_type": "text"
      },
      "source": [
        "**Answer:** (Write your answer in this cell)"
      ]
    },
    {
      "cell_type": "markdown",
      "metadata": {
        "id": "dwE8ZknoLxoi",
        "colab_type": "text"
      },
      "source": [
        "Human faces have very complicated features that a simple model cannot extract. But for the sake of running time, I only use 4 convolutional and 4 transpose convolutional layers. May be that's why some of the genearted faces are not recognizable. I'm guessing another convolutional layer might be needed. I'm also exploring why transfer learning would be a viable option for DCGAN. And the dataset itself is biased e.g. it contains largely of white people and the generator cannot really generate other races: (asian, african america). By having a mix in the dataset would help the model. When I was researching, I found out that GAN is not really the kind of network that would yield great results by training longer with more epochs. One thing to optimize would be to improve extraction of feature with convolutional layer."
      ]
    },
    {
      "cell_type": "markdown",
      "metadata": {
        "id": "k7e76YObdhXy",
        "colab_type": "text"
      },
      "source": [
        "### Submitting This Project\n",
        "When submitting this project, make sure to run all the cells before saving the notebook. Save the notebook file as \"dlnd_face_generation.ipynb\" and save it as a HTML file under \"File\" -> \"Download as\". Include the \"problem_unittests.py\" files in your submission."
      ]
    }
  ]
}